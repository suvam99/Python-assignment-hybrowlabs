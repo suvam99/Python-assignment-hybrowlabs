{
 "cells": [
  {
   "cell_type": "markdown",
   "id": "c6ccb951",
   "metadata": {},
   "source": [
    "## Stack"
   ]
  },
  {
   "cell_type": "code",
   "execution_count": 21,
   "id": "46dfe541",
   "metadata": {},
   "outputs": [
    {
     "name": "stdout",
     "output_type": "stream",
     "text": [
      "True\n",
      "5\n",
      "21\n",
      "16\n",
      "False\n"
     ]
    }
   ],
   "source": [
    "class StackusingArray:\n",
    "    \n",
    "    def __init__(self):\n",
    "        self.arr=[]\n",
    "    \n",
    "    #Function for push an element to stack\n",
    "    def push(self,item):\n",
    "        self.arr.append(item)\n",
    "        \n",
    "    #Function for remove an element from stack\n",
    "    def pop(self):\n",
    "        if self.is_empty():\n",
    "            return -1\n",
    "        self.arr.pop()\n",
    "\n",
    "    #function to get the top element from stack\n",
    "    def peek(self):\n",
    "        if self.is_empty():\n",
    "            return -1\n",
    "        ans=self.arr[-1]\n",
    "        return ans\n",
    "    \n",
    "    #function to check either stack is empty or not\n",
    "    def is_empty(self):\n",
    "        if len(self.arr)==0:\n",
    "            return True\n",
    "        return False\n",
    "    \n",
    "    \n",
    "#Testcases\n",
    "s=StackusingArray()\n",
    "print(s.is_empty())\n",
    "s.push(3)\n",
    "s.push(5)\n",
    "print(s.peek())\n",
    "s.push(7)\n",
    "s.push(9)\n",
    "s.push(15)\n",
    "s.push(2)\n",
    "s.push(16)\n",
    "s.push(21)\n",
    "print(s.peek())\n",
    "s.pop()\n",
    "print(s.peek())\n",
    "print(s.is_empty())"
   ]
  },
  {
   "cell_type": "markdown",
   "id": "4d50e884",
   "metadata": {},
   "source": [
    "## Queue"
   ]
  },
  {
   "cell_type": "code",
   "execution_count": 34,
   "id": "c340e19d",
   "metadata": {},
   "outputs": [
    {
     "name": "stdout",
     "output_type": "stream",
     "text": [
      "True\n",
      "10\n",
      "4\n",
      "False\n"
     ]
    }
   ],
   "source": [
    "class QueueUsingArray():\n",
    "    \n",
    "    def __init__(self):\n",
    "        self.arr=[]\n",
    "        \n",
    "    #function for push an element to Queue   \n",
    "    def push(self,item):\n",
    "        self.arr.append(item)\n",
    "    \n",
    "    #function for removing an element from Queue\n",
    "    def pop(self):\n",
    "        if self.is_empty():\n",
    "            return -1\n",
    "        self.arr.pop(0)\n",
    "    \n",
    "    #function to get the top element from Queue \n",
    "    def peek(self):\n",
    "        if self.is_empty():\n",
    "            return -1\n",
    "        ans=self.arr[0]\n",
    "        return ans\n",
    "    \n",
    "    #function to check either queue is empty or not\n",
    "    def is_empty(self):\n",
    "        if len(self.arr)==0:\n",
    "            return True\n",
    "        return False\n",
    "   \n",
    "  \n",
    "#Testcases\n",
    "q=QueueUsingArray()\n",
    "print(q.is_empty())\n",
    "q.push(10)\n",
    "q.push(8)\n",
    "print(q.peek())\n",
    "q.pop()\n",
    "q.pop()\n",
    "q.push(6)\n",
    "q.push(4)\n",
    "q.push(9)\n",
    "q.push(11)\n",
    "q.push(15)\n",
    "q.push(7)\n",
    "q.pop()\n",
    "print(q.peek())\n",
    "print(q.is_empty())"
   ]
  },
  {
   "cell_type": "markdown",
   "id": "ba800abc",
   "metadata": {},
   "source": [
    "##  Binary Search Tree"
   ]
  },
  {
   "cell_type": "code",
   "execution_count": 35,
   "id": "14ddaf07",
   "metadata": {},
   "outputs": [
    {
     "name": "stdout",
     "output_type": "stream",
     "text": [
      "5\n",
      "True\n",
      "False\n",
      "8\n",
      "True\n"
     ]
    }
   ],
   "source": [
    "class BinaryTreeNode:\n",
    "    def __init__(self,data):\n",
    "        self.data=data;\n",
    "        self.left=None\n",
    "        self.right=None\n",
    "class BST:\n",
    "    def __init__(self):\n",
    "        self.root=None\n",
    "        self.numNodes=0\n",
    "\n",
    "    #function for adding in element to tree\n",
    "    def insertHelper(self,root,data):\n",
    "        if root==None:\n",
    "            node=BinaryTreeNode(data)\n",
    "            return node\n",
    "        if root.data>data:\n",
    "            root.left=self.insertHelper(root.left,data)\n",
    "            return root\n",
    "        else:\n",
    "            root.right=self.insertHelper(root.right,data)\n",
    "            return root\n",
    "    def insert(self,data):\n",
    "        self.numNodes+=1\n",
    "        self.root=self.insertHelper(self.root,data)\n",
    "        \n",
    "    def min(self,root):\n",
    "        if root==None:\n",
    "            return 10000\n",
    "        if root.left==None:\n",
    "            return root.data\n",
    "        return self.min(root.left)\n",
    "    \n",
    "    #function to delete element from tree\n",
    "    def deleteDataHelper(self,root,data):\n",
    "        if root==None:\n",
    "            return False, None\n",
    "        if root.data<data:\n",
    "            deleted,newRightNode=self.deleteDataHelper(root.right,data)\n",
    "            root.right=newRightNode\n",
    "            return deleted,root\n",
    "        if root.data>data:\n",
    "            deleted,newLeftNode=self.deleteDataHelper(root.left,data)\n",
    "            root.left=newLeftNode\n",
    "            return deleted,root\n",
    "        #root is leaf\n",
    "        if root.left==None and root.right==None:\n",
    "            return True, None\n",
    "        # root has one child\n",
    "        if root.left==None:\n",
    "            return True,root.right\n",
    "        if root.right==None:\n",
    "            return True,root.left\n",
    "        #root has 2 children\n",
    "        replacement=self.min(root.right)\n",
    "        root.data=replacement\n",
    "        deleted,newRightNode=self.deleteDataHelper(root.right,replacement)\n",
    "        root.right=newRightNode\n",
    "        return True,root\n",
    "    def delete(self,data):\n",
    "        deleted,newRoot=self.deleteDataHelper(self.root,data)\n",
    "        if deleted:\n",
    "            self.numNodes-=1\n",
    "        self.root=newRoot\n",
    "        return deleted\n",
    "    \n",
    "    #function to check either the elemt is present in bst or not\n",
    "    def searchHelper(self,root,data):\n",
    "        if root==None:\n",
    "            return False\n",
    "        if root.data==data:\n",
    "            return True\n",
    "        if root.data>data:\n",
    "            #call on left\n",
    "            return self.searchHelper(root.left,data)\n",
    "        else:\n",
    "            #Call on right\n",
    "            return self.searchHelper(root.right,data)\n",
    "    def search(self,data):\n",
    "        return self.searchHelper(self.root,data)\n",
    "    \n",
    "    #function get the size of the tree\n",
    "    def size(self):\n",
    "        return self.numNodes\n",
    "\n",
    "#testcases\n",
    "b=BST()\n",
    "b.insert(10)\n",
    "b.insert(5)\n",
    "b.insert(7)\n",
    "b.insert(6)\n",
    "b.insert(8)\n",
    "print(b.size())\n",
    "b.insert(12)\n",
    "b.insert(11)\n",
    "b.insert(15)\n",
    "print(b.search(11))\n",
    "print(b.search(17))\n",
    "print(b.size())\n",
    "b.insert(17)\n",
    "print(b.search(17))"
   ]
  },
  {
   "cell_type": "markdown",
   "id": "ac47baf5",
   "metadata": {},
   "source": [
    "## Anagram Checker"
   ]
  },
  {
   "cell_type": "code",
   "execution_count": 26,
   "id": "96d99317",
   "metadata": {},
   "outputs": [
    {
     "name": "stdout",
     "output_type": "stream",
     "text": [
      "Hybrowlabs Technologies\n",
      "labsTech Hybrownologies\n",
      "True\n"
     ]
    }
   ],
   "source": [
    "def Anagram(str1, str2):\n",
    "    frequency = 256\n",
    " \n",
    "    #create arrays and fill with zero\n",
    "    arr1 = [0] * frequency\n",
    "    arr2 = [0] * frequency\n",
    " \n",
    "    #now for each element in a string incremnet the value by 1 in the array \n",
    "    #and the position in the array willbe the ord of the element\n",
    "    for i in str1:\n",
    "        arr1[ord(i)] += 1\n",
    " \n",
    "    for i in str2:\n",
    "        arr2[ord(i)] += 1\n",
    " \n",
    "    #if they are of different length then the will not be anagram\n",
    "    if len(str1) != len(str2):\n",
    "        return False\n",
    "    \n",
    "    #if both the arrays are equal then they are anagram\n",
    "    if arr1==arr2:\n",
    "        return True\n",
    "    return False\n",
    "    \n",
    "#input\n",
    "str1=str(input())\n",
    "str2=str(input())\n",
    "print(Anagram(str1, str2))"
   ]
  },
  {
   "cell_type": "markdown",
   "id": "04d32264",
   "metadata": {},
   "source": [
    "## FizzBuzz"
   ]
  },
  {
   "cell_type": "code",
   "execution_count": 28,
   "id": "2222ddb4",
   "metadata": {},
   "outputs": [
    {
     "name": "stdout",
     "output_type": "stream",
     "text": [
      "15\n",
      "1\n",
      "2\n",
      "Fizz\n",
      "4\n",
      "Buzz\n",
      "Fizz\n",
      "7\n",
      "8\n",
      "Fizz\n",
      "Buzz\n",
      "11\n",
      "Fizz\n",
      "13\n",
      "14\n",
      "FizzBuzz\n"
     ]
    }
   ],
   "source": [
    "def fizzbuzz(n):\n",
    "\n",
    "    #run a loop from 1 to n+1\n",
    "    for i in range(1,n+1):\n",
    "        \n",
    "        #statement to check if the number is divisible by both 3 & 5\n",
    "        if i%3==0 and i%5==0:\n",
    "            print('FizzBuzz')\n",
    "            \n",
    "        #statement to check if the number is divisible by 3\n",
    "        elif i%3==0:\n",
    "            print('Fizz')\n",
    "        \n",
    "        #statement to check if the number is divisible by 5\n",
    "        elif i%5==0:\n",
    "            print('Buzz')\n",
    "            \n",
    "        #if its not divisible by any then print the number\n",
    "        else:\n",
    "            print(i)   \n",
    "\n",
    "#input\n",
    "n=int(input())\n",
    "fizzbuzz(n)"
   ]
  },
  {
   "cell_type": "markdown",
   "id": "100d4fd6",
   "metadata": {},
   "source": [
    "## Fibonacci Sequence"
   ]
  },
  {
   "cell_type": "code",
   "execution_count": 36,
   "id": "c99e65b0",
   "metadata": {},
   "outputs": [
    {
     "name": "stdout",
     "output_type": "stream",
     "text": [
      "15\n",
      "610\n"
     ]
    }
   ],
   "source": [
    "def fibonacci(n):\n",
    "    a=0\n",
    "    b=1\n",
    "    #first two numbers in fibonaci are 0 and 1\n",
    "    #run the loop till n+1 and add the previous two numbers \n",
    "    for i in range(n+1):\n",
    "        c=a\n",
    "        a=b\n",
    "        b=a+c\n",
    "    print(c)\n",
    "    \n",
    "#input\n",
    "n=int(input())\n",
    "fibonacci(n)"
   ]
  },
  {
   "cell_type": "code",
   "execution_count": null,
   "id": "ef40ddb4",
   "metadata": {},
   "outputs": [],
   "source": []
  }
 ],
 "metadata": {
  "kernelspec": {
   "display_name": "Python 3",
   "language": "python",
   "name": "python3"
  },
  "language_info": {
   "codemirror_mode": {
    "name": "ipython",
    "version": 3
   },
   "file_extension": ".py",
   "mimetype": "text/x-python",
   "name": "python",
   "nbconvert_exporter": "python",
   "pygments_lexer": "ipython3",
   "version": "3.8.8"
  }
 },
 "nbformat": 4,
 "nbformat_minor": 5
}
